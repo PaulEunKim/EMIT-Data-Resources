{
 "cells": [
  {
   "cell_type": "markdown",
   "metadata": {},
   "source": [
    "# Understanding Methane Spectra\n",
    "\n"
   ]
  },
  {
   "cell_type": "code",
   "execution_count": null,
   "metadata": {},
   "outputs": [],
   "source": [
    "import os\n",
    "import sys\n",
    "import math\n",
    "import numpy as np\n",
    "import pandas as pd\n",
    "import xarray as xr\n",
    "from osgeo import gdal\n",
    "import geopandas as gpd\n",
    "import earthaccess\n",
    "import folium.plugins\n",
    "import rasterio as rio\n",
    "import rioxarray as rxr\n",
    "\n",
    "import holoviews as hv\n",
    "import hvplot\n",
    "import hvplot.xarray\n",
    "import hvplot.pandas\n",
    "\n",
    "sys.path.append('../modules/')\n",
    "from emit_tools import emit_xarray, ortho_xr\n",
    "from tutorial_utils import results_to_geopandas"
   ]
  },
  {
   "cell_type": "code",
   "execution_count": null,
   "metadata": {},
   "outputs": [],
   "source": [
    "import earthaccess\n",
    "sys.path.append('../modules/')\n",
    "\n",
    "# Data Collections for our search, using a dictionary\n",
    "concept_id = 'C2748088093-LPCLOUD'\n",
    "# Define Date Range\n",
    "date_range = ('2022-08-15','2022-08-16')\n",
    "results = earthaccess.search_data(\n",
    "    concept_id=concept_id,\n",
    "    temporal=date_range,\n",
    "    count=2000\n",
    ")\n",
    "gdf = results_to_geopandas(results)\n",
    "gdf = gdf.loc[0:2]\n",
    "gdf"
   ]
  },
  {
   "cell_type": "code",
   "execution_count": null,
   "metadata": {},
   "outputs": [],
   "source": [
    "# url = 'https://data.lpdaac.earthdatacloud.nasa.gov/lp-prod-protected/EMITL1BRAD.001/EMIT_L1B_RAD_001_20220815T042838_2222703_003/EMIT_L1B_RAD_001_20220815T042838_2222703_003.nc'\n",
    "# earthaccess.login(persist=True)\n",
    "# fs = earthaccess.get_requests_https_session()\n",
    "# # Retrieve granule asset ID from URL (to maintain existing naming convention)\n",
    "# granule_asset_id = url.split('/')[-1]\n",
    "# # Define Local Filepath\n",
    "# fp = f'../../data/{granule_asset_id}'\n",
    "# # Download the Granule Asset if it doesn't exist\n",
    "# if not os.path.isfile(fp):\n",
    "#     with fs.get(url,stream=True) as src:\n",
    "#         with open(fp,'wb') as dst:\n",
    "#             for chunk in src.iter_content(chunk_size=64*1024*1024):\n",
    "#                 dst.write(chunk)"
   ]
  },
  {
   "cell_type": "code",
   "execution_count": null,
   "metadata": {},
   "outputs": [],
   "source": [
    "fp = '../../data/EMIT_L1B_RAD_001_20220815T042838_2222703_003.nc'"
   ]
  },
  {
   "cell_type": "code",
   "execution_count": null,
   "metadata": {},
   "outputs": [],
   "source": [
    "rad = emit_xarray(fp, ortho=False)"
   ]
  },
  {
   "cell_type": "code",
   "execution_count": null,
   "metadata": {},
   "outputs": [],
   "source": [
    "enh = rxr.open_rasterio('../../data/EMIT_L2B_CH4ENH_001_20220815T042838_2222703_003.tif').squeeze('band',drop=True)\n",
    "enh.data[enh.data == -9999] = np.nan"
   ]
  },
  {
   "cell_type": "code",
   "execution_count": null,
   "metadata": {},
   "outputs": [],
   "source": [
    "# rgb = ortho_xr(rad.sel(wavelengths=[625, 525, 460], method='nearest'))\n",
    "# rgb"
   ]
  },
  {
   "cell_type": "code",
   "execution_count": null,
   "metadata": {},
   "outputs": [],
   "source": [
    "# # Function to adjust gamma across all bands - adjust brightness\n",
    "# def gamma_adjust(rgb_ds, bright=0.2, white_background=False, var='reflectance'):\n",
    "#     array = rgb_ds[var].data\n",
    "#     gamma = math.log(bright)/math.log(np.nanmean(array)) # Create exponent for gamma scaling - can be adjusted by changing 0.2 \n",
    "#     scaled = np.power(array,gamma).clip(0,1) # Apply scaling and clip to 0-1 range\n",
    "#     if white_background == True:\n",
    "#         scaled = np.nan_to_num(scaled, nan = 1) # Assign NA's to 1 so they appear white in plots\n",
    "#     rgb_ds[var].data = scaled\n",
    "#     return rgb_ds"
   ]
  },
  {
   "cell_type": "code",
   "execution_count": null,
   "metadata": {},
   "outputs": [],
   "source": [
    "# rgb = gamma_adjust(rgb, white_background=True, var='radiance')"
   ]
  },
  {
   "cell_type": "code",
   "execution_count": null,
   "metadata": {},
   "outputs": [],
   "source": [
    "# map = rgb.hvplot.rgb(x='longitude', y='latitude', bands='wavelengths', geo=True,crs='EPSG:4326', frame_height=500)"
   ]
  },
  {
   "cell_type": "code",
   "execution_count": null,
   "metadata": {},
   "outputs": [],
   "source": [
    "# map = rgb.hvplot.rgb(x='crosstrack', y='downtrack', bands='wavelengths', aspect = 'equal', frame_height=500)"
   ]
  },
  {
   "cell_type": "code",
   "execution_count": null,
   "metadata": {},
   "outputs": [],
   "source": [
    "# Open csv files\n",
    "points = pd.read_csv('../../data/methane_tutorial/rad_band_ratio_points.csv')\n",
    "target_spectra = pd.read_csv('../../data/methane_tutorial/emit20220815t042838_o22703_s000_l1b_dua_spec_ch4.csv')"
   ]
  },
  {
   "cell_type": "code",
   "execution_count": null,
   "metadata": {},
   "outputs": [],
   "source": [
    "target_spectra"
   ]
  },
  {
   "cell_type": "code",
   "execution_count": null,
   "metadata": {},
   "outputs": [],
   "source": [
    "points = points.set_index(['ID'])"
   ]
  },
  {
   "cell_type": "code",
   "execution_count": null,
   "metadata": {},
   "outputs": [],
   "source": [
    "# Extract target spectra from dataset\n",
    "point_ds = rad.sel(crosstrack=(rad.dims['crosstrack']-points.to_xarray().x), downtrack=points.to_xarray().y)"
   ]
  },
  {
   "cell_type": "code",
   "execution_count": null,
   "metadata": {},
   "outputs": [],
   "source": [
    "point_ds = point_ds.drop_vars(['glt_x','glt_y','elev'])"
   ]
  },
  {
   "cell_type": "code",
   "execution_count": null,
   "metadata": {},
   "outputs": [],
   "source": [
    "point_df = point_ds.to_dataframe().join(points['in-plume'],on=['ID'])"
   ]
  },
  {
   "cell_type": "code",
   "execution_count": null,
   "metadata": {},
   "outputs": [],
   "source": [
    "point_df"
   ]
  },
  {
   "cell_type": "code",
   "execution_count": null,
   "metadata": {},
   "outputs": [],
   "source": [
    "# point_df.to_csv('../../data/methane_tutorial/point_df.csv')"
   ]
  },
  {
   "cell_type": "code",
   "execution_count": null,
   "metadata": {},
   "outputs": [],
   "source": [
    "rad.radiance.isel(wavelengths=37).hvplot.image(aspect='equal').opts(invert_yaxis=True)*point_df.hvplot.points(x='crosstrack',y='downtrack', color='in-plume', hover='ID')\n"
   ]
  },
  {
   "cell_type": "code",
   "execution_count": null,
   "metadata": {},
   "outputs": [],
   "source": [
    "enh.hvplot.image(x='x',y='y',cmap='viridis', geo=True, crs='EPSG:4326')*point_df.hvplot.points(x='lon',y='lat', color='in-plume', cmap='reds', hover_cols='ID', geo=True, crs='EPSG:4326', frame_width=500, frame_height=500)*gdf.hvplot.polygons(geo=True, crs='EPSG:4326', fill_color=None, line_color='red', alpha=0.5)"
   ]
  },
  {
   "cell_type": "code",
   "execution_count": null,
   "metadata": {},
   "outputs": [],
   "source": [
    "# enh.sel(x=53.7749,y=39.4628, method='nearest').x.data"
   ]
  },
  {
   "cell_type": "code",
   "execution_count": null,
   "metadata": {},
   "outputs": [],
   "source": [
    "# def get_ortho_coord(data, coord):\n",
    "#     diff = np.abs(data - coord)\n",
    "#     index = diff.argmin()\n",
    "#     return index"
   ]
  },
  {
   "cell_type": "code",
   "execution_count": null,
   "metadata": {},
   "outputs": [],
   "source": [
    "# rad.glt_x.sel(ortho_y=get_ortho_coord(enh.y.data, 39.4628),ortho_x=get_ortho_coord(enh.x.data,53.7749)).data, rad.glt_y.sel(ortho_y=get_ortho_coord(enh.y.data, 39.4628),ortho_x=get_ortho_coord(enh.x.data,53.7749)).data"
   ]
  },
  {
   "cell_type": "code",
   "execution_count": null,
   "metadata": {},
   "outputs": [],
   "source": [
    "point_df.hvplot(x='wavelengths',y='radiance', by=['ID'], frame_height=400, frame_width=600)"
   ]
  },
  {
   "cell_type": "code",
   "execution_count": null,
   "metadata": {},
   "outputs": [],
   "source": [
    "in_plume = point_df.loc[point_df['in-plume'] == 1].copy()\n",
    "out_plume = point_df.loc[point_df['in-plume'] == 0].copy()"
   ]
  },
  {
   "cell_type": "code",
   "execution_count": null,
   "metadata": {},
   "outputs": [],
   "source": [
    "in_plume"
   ]
  },
  {
   "cell_type": "code",
   "execution_count": null,
   "metadata": {},
   "outputs": [],
   "source": [
    "out_plume['band_ratio'] = (in_plume.loc[2,'radiance']/out_plume['radiance'])"
   ]
  },
  {
   "cell_type": "code",
   "execution_count": null,
   "metadata": {},
   "outputs": [],
   "source": [
    "ratio_plot = out_plume.hvplot(x='wavelengths',y='band_ratio', by=['ID'], frame_height=200, frame_width=600, xlim=(2150,2450), ylim=(0.85,1.05))"
   ]
  },
  {
   "cell_type": "code",
   "execution_count": null,
   "metadata": {},
   "outputs": [],
   "source": [
    "target_plot = target_spectra.hvplot(x='wavelength',y='value', frame_height=200, frame_width=600, line_color='black', line_width=2, xlim=(2150,2450), ylim=(-1.3,0))"
   ]
  },
  {
   "cell_type": "code",
   "execution_count": null,
   "metadata": {},
   "outputs": [],
   "source": [
    "from bokeh.models import GlyphRenderer, LinearAxis, LinearScale, Range1d\n",
    "\n",
    "def overlay_hook(plot, element):\n",
    "    # Adds right y-axis\n",
    "    p = plot.handles[\"plot\"]\n",
    "    p.extra_y_scales = {\"right\": LinearScale()}\n",
    "    p.extra_y_ranges = {\"right\": Range1d(-1.3,0)}\n",
    "    p.add_layout(LinearAxis(y_range_name=\"right\"), \"right\")\n",
    "\n",
    "   # find the last line and set it to right\n",
    "    lines = [p for p in p.renderers if isinstance(p, GlyphRenderer)]\n",
    "    lines[-1].y_range_name = \"right\"\n",
    "\n",
    "(ratio_plot.opts(legend_position='bottom') * target_plot.opts(color=\"k\")).opts(hooks=[overlay_hook]).opts(title='In/Out of Plume Band Ratio and Target Spectrum') "
   ]
  }
 ],
 "metadata": {
  "kernelspec": {
   "display_name": "lpdaac_vitals_test",
   "language": "python",
   "name": "python3"
  },
  "language_info": {
   "codemirror_mode": {
    "name": "ipython",
    "version": 3
   },
   "file_extension": ".py",
   "mimetype": "text/x-python",
   "name": "python",
   "nbconvert_exporter": "python",
   "pygments_lexer": "ipython3",
   "version": "3.10.13"
  }
 },
 "nbformat": 4,
 "nbformat_minor": 2
}
