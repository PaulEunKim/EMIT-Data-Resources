{
 "cells": [
  {
   "cell_type": "markdown",
   "id": "28e9239d-5a33-4e90-b1e8-d18bc44f4f45",
   "metadata": {},
   "source": [
    "> **Disclaimer:** The [**EMITL2BMIN**](https://doi.org/10.5067/EMIT/EMITL2BMIN.001) product is generated to support the EMIT mission objectives of constraining the sign of dust related radiative forcing. Ten mineral types are the core focus of this work: Calcite, Chlorite, Dolomite, Goethite, Gypsum, Hematite, Illite+Muscovite, Kaolinite, Montmorillonite, and Vermiculite.  The [**EMIT_L3_ASA**]() product contain the aggregate abundance of these minerals at a coarser resolution for use in Earth System Models. Additional minerals are included in the **EMITL2BMIN** product for transparency but were not the focus of this product. Further validation is required to use these additional mineral maps, particularly in the case of resource exploration. Similarly, the separation of minerals with similar spectral features, such as a fine-grained goethite and hematite, is an area of active research. The results presented here are an initial offering, but the precise categorization is likely to evolve over time, and the limits of what can and cannot be separated on the global scale is still being explored. The user is encouraged to read the [Algorithm Theoretical Basis Document (ATBD)](https://lpdaac.usgs.gov/documents/1659/EMITL2B_ATBD_v1.pdf) for more details.\n",
    "\n",
    "# Working with EMIT L2B Mineralogy Data\n",
    "\n",
    "**Summary**  \n",
    "\n",
    "In this notebook we will open the [EMIT L2B Estimated Mineral Identification and Band Depth and Uncertainty (EMITL2BMIN)](https://doi.org/10.5067/EMIT/EMITL2BMIN.001) products, find a mineral of interest from the ten mineral types focused on by the EMIT mission, evaluate uncertainty, orthorectify the data, then create an output mask or vector file for the granule.\n",
    "\n",
    "**Background**\n",
    "\n",
    "The EMIT instrument is an imaging spectrometer that measures light in visible and infrared wavelengths. These measurements display unique spectral signatures that correspond to the composition on the Earth's surface. The EMIT mission focuses specifically on mapping the composition of minerals to better understand the effects of mineral dust throughout the Earth system and human populations now and in the future. More details about EMIT and its associated products can be found in the **README.md** and on the [EMIT website](https://earth.jpl.nasa.gov/emit/).\n",
    "\n",
    "The [EMITL2BMIN](https://doi.org/10.5067/EMIT/EMITL2BMIN.001) data product provides estimated mineral identification, band depths and uncertainty in a spatially raw, non-orthocorrected format. Two spectral groups, which correspond to different regions of the spectra, are identified independently and often co-occur are used to identify minerals. These estimates are generated using the [Tetracorder system](https://www.usgs.gov/publications/tetracorder-user-guide-version-44?_gl=1*1eoj33d*_ga*MTU3MTA3ODgxNS4xNjQ5MTg1MDgx*_ga_0YWDZEJ295*MTY4NjkyNTg0Mi40NC4xLjE2ODY5MjU4NzMuMC4wLjA.)([code](https://github.com/PSI-edu/spectroscopy-tetracorder)) and are based on [EMITL2ARFL](https://doi.org/10.5067/EMIT/EMITL2ARFL.001) reflectance values. The product also consists of an EMIT_L2B_MINUNCERT file, which provides band depth uncertainty estimates calculated using surface Reflectance Uncertainty values from the [EMITL2ARFL](https://doi.org/10.5067/EMIT/EMITL2ARFL.001) data product. The band depth uncertainties are presented as standard deviations, and the fit score for each mineral identification is also provided as the coefficient of determination (r<sup>2</sup>) of the match between the continuum normalized library reference and the continuum normalized observed spectrum. Associated metadata indicates the name and reference information for each identified mineral, and additional information about aggregating minerals into different categories, and the code used for product generation is available in the [emit-sds-l2b repository]().\n",
    "\n",
    "**Disclaimer**\n",
    "\n",
    "The [EMIT_L2B_MIN](https://doi.org/10.5067/EMIT/EMITL2BMIN.001) product is generated to support the EMIT mission objectives of constraining the sign of dust related radiative forcing. Ten mineral types are the core focus of this work: Calcite, Chlorite, Dolomite, Goethite, Gypsum, Hematite, Illite+Muscovite, Kaolinite, Montmorillonite, and Vermiculite. A future product will aggregate these results for use in Earth System Models. Additional minerals are included in this product for transparency but were not the focus of this product. Further validation is required to use these additional mineral maps, particularly in the case of resource exploration. Similarly, the separation of minerals with similar spectral features, such as a fine-grained goethite and hematite, is an area of active research. The results presented here are an initial offering, but the precise categorization is likely to evolve over time, and the limits of what can and cannot be separated on the global scale is still being explored. The user is encouraged to read the [Algorithm Theoretical Basis Document (ATBD)](https://lpdaac.usgs.gov/documents/1659/EMITL2B_ATBD_v1.pdf) for more details.\n",
    "\n",
    "**Requirements** \n",
    " - Set up Python Environment - See **setup_instructions.md** in the `/setup/` folder \n",
    "\n",
    "**Learning Objectives**  \n",
    "- How to open an EMIT L2B `.nc` file as an `xarray.Dataset`\n",
    "- Apply the Geometry Lookup Table (GLT) to orthorectify the image.\n",
    "- Find minerals of interest within a granule\n",
    "- Visualize Mineral Identification and Band depth\n",
    "- Evaluate mineral uncertainty\n",
    "- Calculate and Visualize mineral Abundance\n",
    "\n",
    "**Tutorial Outline**  \n",
    "\n",
    "1.1 Setup  \n",
    "1.2 #TODO"
   ]
  },
  {
   "cell_type": "markdown",
   "id": "0b6c3019-765d-47b7-8536-5c24ff0288c4",
   "metadata": {},
   "source": [
    "## 1. Setup\n",
    "\n",
    "Import the required Python libraries."
   ]
  },
  {
   "cell_type": "code",
   "execution_count": null,
   "id": "5370bd60-e09c-4ba2-82f7-09697360ff79",
   "metadata": {
    "tags": []
   },
   "outputs": [],
   "source": [
    "import earthaccess\n",
    "import geopandas as gp\n",
    "import os\n",
    "import sys\n",
    "import numpy as np\n",
    "import pandas as pd\n",
    "import xarray as xr\n",
    "import hvplot.xarray\n",
    "import holoviews as hv\n",
    "sys.path.append('../modules/')\n",
    "import emit_tools as et"
   ]
  },
  {
   "cell_type": "markdown",
   "id": "7b3798c2",
   "metadata": {},
   "source": [
    "Login to your NASA Earthdata account and create a `.netrc` file using the `login` function from the `earthaccess` library. If you do not have an Earthdata Account, you can create one [here](https://urs.earthdata.nasa.gov/home). "
   ]
  },
  {
   "cell_type": "code",
   "execution_count": null,
   "id": "909ddf57",
   "metadata": {},
   "outputs": [],
   "source": [
    "earthaccess.login(persist=True)"
   ]
  },
  {
   "cell_type": "markdown",
   "id": "b94d9b18",
   "metadata": {},
   "source": [
    "For this notebook we will download the files necessary using `earthaccess`. You can also access the data in place or stream it, but this can slow due to the file sizes. Provide a URL for an EMIT L2B Mineral Identification and Band Depth granule."
   ]
  },
  {
   "cell_type": "code",
   "execution_count": null,
   "id": "57a34e59",
   "metadata": {},
   "outputs": [],
   "source": [
    "# List the browse images from the text file output of the previous notebook.\n",
    "rgb_list = '../../data/rgb_browse_urls.txt'\n",
    "with open(rgb_list) as f:\n",
    "    rgb_urls = [line.rstrip('\\n') for line in f]\n",
    "rgb_urls"
   ]
  },
  {
   "cell_type": "code",
   "execution_count": null,
   "id": "0b858790",
   "metadata": {},
   "outputs": [],
   "source": [
    "# List the browse images from the text file output of the previous notebook.\n",
    "min_list = '../../data/results_urls.txt'\n",
    "with open(min_list) as f:\n",
    "    min_urls = [line.rstrip('\\n') for line in f]\n",
    "min_urls"
   ]
  },
  {
   "cell_type": "markdown",
   "id": "84d63672",
   "metadata": {},
   "source": [
    "Get an HTTPS Session using your earthdata login, set a local path to save the file, and download the granule asset."
   ]
  },
  {
   "cell_type": "code",
   "execution_count": null,
   "id": "eb62adee",
   "metadata": {},
   "outputs": [],
   "source": [
    "fs = earthaccess.get_fsspec_https_session()\n",
    "fp = fs.open(min_urls[1])"
   ]
  },
  {
   "cell_type": "markdown",
   "id": "d4e3769f",
   "metadata": {},
   "source": [
    "## 1.2 Downloaded Data\n",
    "\n",
    "If you’ve already downloaded the data using the workflow shown in Section 6 of the [Finding EMIT L2B Mineralogy Data](Finding_EMIT_L2B_Mineralogy_Data.ipynb) , you can just set filepaths using the cell below."
   ]
  },
  {
   "cell_type": "code",
   "execution_count": null,
   "id": "14114c12-c896-43d9-9424-3d015b98a0b5",
   "metadata": {
    "tags": []
   },
   "outputs": [],
   "source": [
    "# fp = '../../data/EMIT_L2B_MIN_001_20230427T173309_2311711_010.nc' # Mineral\n",
    "# # fp_rgb = '../../data/EMIT_L2A_RFL_001_20230427T173309_2311711_010.png' # RGB\n",
    "# # fp_un = '' # Mineral Uncertainty"
   ]
  },
  {
   "cell_type": "markdown",
   "id": "9c28b8fb",
   "metadata": {},
   "source": [
    "---\n",
    "## 2. Working with the L2B Mineral Identification and Band Depth"
   ]
  },
  {
   "cell_type": "markdown",
   "id": "39339147",
   "metadata": {},
   "source": [
    "EMITL2BMIN data are distributed in a non-orthocorrected spatially raw NetCDF4 (.nc) format consisting of the data and its associated metadata. Inside the `.nc` file there are 3 groups. Groups can be thought of as containers to organize the data. \n",
    "\n",
    "1. The root group that can be considered the main dataset contains 4 data variables data described by the downtrack, and crosstrack dimensions. These variables are `group_1_mineral_id`, `group_1_band_depth`, `group_2_mineral_id`, and `group_2_band_depth`. These contain the ID and a band depth for each mineral group. These groups do not correspond to the `.netcdf` file groups, but rather the spectral library groups used to identify the minerals based on which region of the spectra the mineral features correspond to.\n",
    "2. The `mineral_metadata`  group containing the spectral library entry name, index, record, group, and url for each entry.\n",
    "3. The `location` group contains latitude and longitude values at the center of each pixel described by the crosstrack and downtrack dimensions, as well as a geometry lookup table (GLT) described by the ortho_x and ortho_y dimensions. The GLT is an orthorectified image (EPSG:4326) consisting of 2 layers containing downtrack and crosstrack indices. These index positions allow us to quickly project the raw data onto this geographic grid.\n",
    "\n",
    "To access the `.nc` file, you can use the `netCDF4`, `xarray` libraries, or fuctions from the `emit_tools.py` library. Here we will use the `emit_xarray` function from this library, which will open and organize the data into an easy to work with `xarray.Dataset` object. We can also pass the `ortho=True` argument to orthorectify the data at this stage, but we will start just examining the data to get a better understanding. "
   ]
  },
  {
   "cell_type": "code",
   "execution_count": null,
   "id": "1e97803b-d221-45b0-b388-a851b5fee96a",
   "metadata": {
    "tags": []
   },
   "outputs": [],
   "source": [
    "ds_min = et.emit_xarray(fp)\n",
    "ds_min"
   ]
  },
  {
   "cell_type": "markdown",
   "id": "a54c4bd3",
   "metadata": {},
   "source": [
    "If we look at the mineral `index` by printing the first 5 values, we can see that values start with 1. If we look at the minimum values of the mineral IDs we can see these have 0 as a possible value. "
   ]
  },
  {
   "cell_type": "code",
   "execution_count": null,
   "id": "6bdd201e",
   "metadata": {},
   "outputs": [],
   "source": [
    "print(ds_min.index.data[:5])"
   ]
  },
  {
   "cell_type": "code",
   "execution_count": null,
   "id": "768344b0",
   "metadata": {},
   "outputs": [],
   "source": [
    "print(f'Group_1_minimum:{ds_min.group_1_mineral_id.data.min()} Group_2_minimum: {ds_min.group_2_mineral_id.data.min()}')"
   ]
  },
  {
   "cell_type": "markdown",
   "id": "7c98dfb5",
   "metadata": {},
   "source": [
    "The 0 here represents no match."
   ]
  },
  {
   "cell_type": "markdown",
   "id": "e56c228d",
   "metadata": {},
   "source": [
    "### 2.1 Orthorectification\n",
    "\n",
    "The 'real' orthorectifation process has already been done for EMIT data. Here we are just using the crosstrack and downtrack indices contained in the GLT to place our spatially raw mineralogy data a into geographic grid with the `ortho_x` and `ortho_y` dimensions."
   ]
  },
  {
   "cell_type": "code",
   "execution_count": null,
   "id": "c444096a",
   "metadata": {},
   "outputs": [],
   "source": [
    "ds_min = et.ortho_xr(ds_min)\n",
    "ds_min"
   ]
  },
  {
   "cell_type": "markdown",
   "id": "fe4aa0c5",
   "metadata": {},
   "source": [
    "We can see from these outputs that the dimensions are now latitude and longitude."
   ]
  },
  {
   "cell_type": "markdown",
   "id": "a44790aa",
   "metadata": {},
   "source": [
    "In this example, we'll just work with the group_1 mineral data. We can find the minerals present in the scene by finding unique values in the `group_1_mineral_id`, but first we will replace the no match and fill-values introduced during orthorectification with `np.nan`, to omit them from our analysis and improve visualizations."
   ]
  },
  {
   "cell_type": "code",
   "execution_count": null,
   "id": "2d2679d1",
   "metadata": {},
   "outputs": [],
   "source": [
    "# Assign fill and no match data to np.nan\n",
    "for var in ds_min.data_vars:\n",
    "    ds_min[var].data[ds_min[var].data == -9999] = np.nan\n",
    "    ds_min[var].data[ds_min[var].data == 0] = np.nan\n",
    "# Find unique values in the group_1_mineral_id variable\n",
    "g1_minerals_present = np.unique(ds_min.group_1_mineral_id.data[~np.isnan(ds_min.group_1_mineral_id.data)]).astype(int)\n",
    "g1_minerals_present"
   ]
  },
  {
   "cell_type": "markdown",
   "id": "9f8fedbf",
   "metadata": {},
   "source": [
    "We can create a table to see what these represent, by selecting only these minerals from the dataset, then creating a list of coordinates containing `mineral_name` and converting to a dataframe. **Note that the `index` differs by 1 from the `minerals_present` index. They start with 0 instead of 1.** "
   ]
  },
  {
   "cell_type": "code",
   "execution_count": null,
   "id": "027485ec",
   "metadata": {},
   "outputs": [],
   "source": [
    "# TODO - different way to deal with this indexing difference\n",
    "min_df = ds_min.isel(mineral_name=(g1_minerals_present-1))[[var for var in ds_min.coords if 'mineral_name' in ds_min[var].dims]].to_dataframe()\n",
    "min_df"
   ]
  },
  {
   "cell_type": "markdown",
   "id": "493da9ae",
   "metadata": {},
   "source": [
    "To visualize minerals present, plot Group 1 Minerals using a categorical color set. You can hover over a colored region to see the zero-based mineral id from the spectral library. Note that these values correspond to the 1-based index value."
   ]
  },
  {
   "cell_type": "code",
   "execution_count": null,
   "id": "5debcfaf",
   "metadata": {},
   "outputs": [],
   "source": [
    "ds_min['group_1_mineral_id'].hvplot.image(cmap='glasbey', geo=True, tiles='ESRI', alpha=0.8,frame_width=750).opts(title='Group 1 Mineral ID')"
   ]
  },
  {
   "cell_type": "markdown",
   "id": "ca303d51",
   "metadata": {},
   "source": [
    "## TODO Orthorectifying/Visualizing Browse Imagery\n",
    " - replace esri imagery with browse layer?\n",
    " - Is this worth the extra complexity?"
   ]
  },
  {
   "cell_type": "markdown",
   "id": "fafa07ec",
   "metadata": {},
   "source": [
    "This figure shows the minerals present in the scene, but doesn't really quantify how well they matched with the spectral library. For that we can look at the band depth for each mineral. We can build an interactive tool to do this using the `panel` and `hvplot` libraries. This will take a bit of time to load for each selection."
   ]
  },
  {
   "cell_type": "code",
   "execution_count": null,
   "id": "b5965751",
   "metadata": {},
   "outputs": [],
   "source": [
    "import panel as pn\n",
    "# Interactive Panel Control For Mineral Band Depth - Default 5 is present in this dataset\n",
    "min_select = pn.widgets.Select(name='Mineral Name', options = min_df.index.tolist(), value = min_df.index.tolist()[5])\n",
    "@pn.depends(min_select)\n",
    "def min_browse(min_select):\n",
    "    mask = ds_min['group_1_band_depth'].where(ds_min['group_1_mineral_id'] == (min_df.loc[min_select]['index']).astype(int))\n",
    "    map = mask.hvplot.image(cmap='viridis', geo=True, tiles='ESRI', alpha=0.8,frame_width=750).opts(title=f'{min_select} Band Depth')\n",
    "    return map\n",
    "pn.Row(pn.WidgetBox(min_select),min_browse)"
   ]
  },
  {
   "cell_type": "markdown",
   "id": "7cd9f2fa",
   "metadata": {},
   "source": [
    "## 3. Aggregating and Mineral Abundance\n",
    "\n",
    "# TODO \n",
    "Mineral abundance...need some text here. NOTE: This method is a placeholder.\n",
    "\n",
    "Load the mineral groupings .csv used to determine abundance. "
   ]
  },
  {
   "cell_type": "code",
   "execution_count": null,
   "id": "9eea13cf",
   "metadata": {},
   "outputs": [],
   "source": [
    "# Open Mineral Groupings .csv\n",
    "mineral_groupings = pd.read_csv('../../data/mineral_grouping_matrix_20230503.csv')\n",
    "# Retrieve the EMIT 10 Mineral Names from Columns 7-16 (starting with 0) in .csv\n",
    "mineral_names = [x for _x, x in enumerate(list(mineral_groupings)) if _x > 6 and _x < 17]\n",
    "# Use EMIT 10 Mineral Names to Subset .csv to only columns with EMIT 10 mineral_names\n",
    "mineral_abundance_ref = np.array(mineral_groupings[mineral_names])\n",
    "# Replace Some values in the .csv\n",
    "mineral_abundance_ref[np.isnan(mineral_abundance_ref)] = 0\n",
    "mineral_abundance_ref[mineral_abundance_ref == -1] = 1"
   ]
  },
  {
   "cell_type": "markdown",
   "id": "c38818cc",
   "metadata": {},
   "source": [
    "The reference spectra in the library may have abundances related to multiple EMIT 10 minerals. Depending on our interests, we may want to use more than one, but for this example, we'll just focus on goethite, which is index 3 in the EMIT10."
   ]
  },
  {
   "cell_type": "code",
   "execution_count": null,
   "id": "45bf53e4",
   "metadata": {},
   "outputs": [],
   "source": [
    "# Select a Mineral\n",
    "selected_mineral = 8\n",
    "# View EMIT10 Minerals with Abundance for Reference Mineral \n",
    "mineral_dict={'EMIT_10_Name':mineral_names,'Abundance_Coefficients':mineral_abundance_ref[selected_mineral-1,:],\n",
    "    'Selected Mineral Index':selected_mineral,'Selected Library Mineral Name':ds_min.mineral_name.data[selected_mineral-1]}\n",
    "pd.DataFrame(mineral_dict)"
   ]
  },
  {
   "cell_type": "markdown",
   "id": "605cfd1a",
   "metadata": {},
   "source": [
    "Apply the EMIT 10 Abundance Coefficients to a selected mineral band depth array to estimate mineral abundance for that selection."
   ]
  },
  {
   "cell_type": "code",
   "execution_count": null,
   "id": "e7dc3190",
   "metadata": {},
   "outputs": [],
   "source": [
    "# Create numpy array of selected mineral band depth by pulling masked data from xarray object\n",
    "mineral_band_depth = ds_min['group_1_band_depth'].where(ds_min['group_1_mineral_id'] == (selected_mineral)).data\n",
    "# Add a third dimension to the band depth by reshaping, select index 45 from the mineral_abundance_ref and add two dimensions so the arrays will multiply correctly\n",
    "mineral_abundances =  mineral_band_depth.reshape((mineral_band_depth.shape[0],mineral_band_depth.shape[1],1)) * mineral_abundance_ref[selected_mineral,:][np.newaxis,np.newaxis,:]\n",
    "# Subset to single mineral abundance for Goethite EMIT10 #3\n",
    "goethite_abundance = mineral_abundances[...,3]\n",
    "# Check Array Shape, should only have 2 dims\n",
    "goethite_abundance.shape"
   ]
  },
  {
   "cell_type": "markdown",
   "id": "2e3da5ef",
   "metadata": {},
   "source": [
    "Create an `xarray.DataArray` for goethite abundance we estimated above, copying the coordinates (latitude, longitude, elevation, spatial_ref) from the dataset we previously orthorectified. We can also copy attributes from that dataset as well to ensure we have all of the metadata we may want in the future."
   ]
  },
  {
   "cell_type": "code",
   "execution_count": null,
   "id": "4384e961",
   "metadata": {},
   "outputs": [],
   "source": [
    "# Create xarray.dataarray for abundance of Goethite\n",
    "ds_abundance = xr.DataArray(data=goethite_abundance, coords=ds_min['group_1_band_depth'].coords, attrs=ds_min.attrs)\n",
    "ds_abundance"
   ]
  },
  {
   "cell_type": "markdown",
   "id": "337dd8ec",
   "metadata": {},
   "source": []
  },
  {
   "cell_type": "code",
   "execution_count": null,
   "id": "93e3d997",
   "metadata": {},
   "outputs": [],
   "source": [
    "#TODO Automated Generation per mineral?\n",
    "#TODO add dropdown to preview different minerals\n",
    "# Plot the Abundance\n",
    "ds_abundance.hvplot.image(geo=True, tiles='EsriImagery', cmap='viridis', alpha=0.8, frame_width=750).opts(title=f'Goethite Spectral Abundance')"
   ]
  },
  {
   "cell_type": "code",
   "execution_count": null,
   "id": "96c2e84b",
   "metadata": {},
   "outputs": [],
   "source": [
    "# Create Out filenames and set folder\n",
    "out_folder = '../../data/output/' # may need to change based on your directory structure\n",
    "# Create out_folder if it does not exist\n",
    "if not os.path.exists(out_folder):\n",
    "   os.makedirs(out_folder)"
   ]
  },
  {
   "cell_type": "markdown",
   "id": "71859fad",
   "metadata": {},
   "source": [
    "Export to cloud optimized geotiff (COG) - probably the easiest format to work with at this stage"
   ]
  },
  {
   "cell_type": "markdown",
   "id": "0fb01dad",
   "metadata": {},
   "source": [
    "## 4. Exporting To Cloud-Optimized Geotiffs\n",
    "\n",
    "# TODO\n",
    "- This should allow creation of a categorical cog for ID, and a float cog based on selected mineral for band depth and abundance.\n",
    "If interested in producing figures with software like QGIS, you can export abundance we calculated, mineral_id or band_depth from selected minerals as cloud-optimized geotiffs. "
   ]
  },
  {
   "cell_type": "code",
   "execution_count": null,
   "id": "677f044d",
   "metadata": {},
   "outputs": [],
   "source": [
    "# Create Out filenames and set folder\n",
    "out_folder = '../../data/output/' # may need to change based on your directory structure\n",
    "# Create out_folder if it does not exist\n",
    "if not os.path.exists(out_folder):\n",
    "   os.makedirs(out_folder)"
   ]
  },
  {
   "cell_type": "code",
   "execution_count": null,
   "id": "7deb8093",
   "metadata": {},
   "outputs": [],
   "source": [
    "# Set output filename\n",
    "abun_name = f'{ds_abundance.granule_id}_goethite_spectral_abundance.tif'\n",
    "# Write data to COG\n",
    "ds_abundance.rio.to_raster(raster_path=f'{out_folder}{abun_name}', driver='COG')"
   ]
  },
  {
   "cell_type": "code",
   "execution_count": null,
   "id": "9a83fd5b",
   "metadata": {},
   "outputs": [],
   "source": [
    "# Set output Filename\n",
    "out_name = f'{ds_min.granule_id}_group_1_mineral_id.tif'\n",
    "# Select Group to Output\n",
    "dat_out = ds_min['group_1_mineral_id']\n",
    "# Fix Datatype and values\n",
    "dat_out.data = np.nan_to_num(dat_out.data, nan=-9999)\n",
    "dat_out.data = dat_out.data.astype(int)"
   ]
  },
  {
   "cell_type": "code",
   "execution_count": null,
   "id": "22f7dc2b",
   "metadata": {},
   "outputs": [],
   "source": [
    "dat_out"
   ]
  },
  {
   "cell_type": "code",
   "execution_count": null,
   "id": "405c07eb",
   "metadata": {},
   "outputs": [],
   "source": [
    "dat_out = dat_out.assign_coords(longitude=(dat_out.coords['longitude'].astype('float32')))\n",
    "dat_out = dat_out.assign_coords(latitude=(dat_out.coords['latitude'].astype('float32')))\n"
   ]
  },
  {
   "cell_type": "code",
   "execution_count": null,
   "id": "e59e6b14",
   "metadata": {},
   "outputs": [],
   "source": [
    "dat_out"
   ]
  },
  {
   "cell_type": "code",
   "execution_count": null,
   "id": "1027e673",
   "metadata": {},
   "outputs": [],
   "source": [
    "# Write data to COG\n",
    "dat_out.rio.to_raster(raster_path=f'{out_folder}{out_name}', driver='COG', nodata=-9999)"
   ]
  },
  {
   "cell_type": "markdown",
   "id": "9996cfae",
   "metadata": {},
   "source": [
    "## Contact Info:  \n",
    "\n",
    "Email: LPDAAC@usgs.gov  \n",
    "Voice: +1-866-573-3222  \n",
    "Organization: Land Processes Distributed Active Archive Center (LP DAAC)¹  \n",
    "Website: <https://lpdaac.usgs.gov/>  \n",
    "Date last modified: 06-21-2024  \n",
    "\n",
    "¹Work performed under USGS contract 140G0121D0001 for NASA contract NNG14HH33I. "
   ]
  }
 ],
 "metadata": {
  "kernelspec": {
   "display_name": "Python 3 (ipykernel)",
   "language": "python",
   "name": "python3"
  },
  "language_info": {
   "codemirror_mode": {
    "name": "ipython",
    "version": 3
   },
   "file_extension": ".py",
   "mimetype": "text/x-python",
   "name": "python",
   "nbconvert_exporter": "python",
   "pygments_lexer": "ipython3",
   "version": "3.10.13"
  }
 },
 "nbformat": 4,
 "nbformat_minor": 5
}
